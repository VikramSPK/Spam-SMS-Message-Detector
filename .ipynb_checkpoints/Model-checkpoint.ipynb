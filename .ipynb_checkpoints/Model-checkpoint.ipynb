{
 "cells": [
  {
   "cell_type": "code",
   "execution_count": 2,
   "id": "2a46a46a",
   "metadata": {},
   "outputs": [],
   "source": [
    "import re\n",
    "import string\n",
    "import pandas as pd\n",
    "import numpy as np\n",
    "from nltk.corpus import stopwords\n",
    "from nltk.stem import PorterStemmer\n",
    "from nltk.stem import WordNetLemmatizer\n",
    "lemmatizer = WordNetLemmatizer()\n",
    "\n",
    "from sklearn.feature_extraction.text import CountVectorizer\n",
    "from sklearn.model_selection import train_test_split\n",
    "from sklearn.naive_bayes import MultinomialNB\n",
    "from sklearn.metrics import classification_report\n",
    "import joblib\n",
    "\n",
    "\n",
    "\n"
   ]
  },
  {
   "cell_type": "code",
   "execution_count": 3,
   "id": "62596e5c",
   "metadata": {},
   "outputs": [
    {
     "name": "stdout",
     "output_type": "stream",
     "text": [
      "   S. No.                                       Message_body Label\n",
      "0       1  UpgrdCentre Orange customer, you may now claim...  Spam\n",
      "1       2  Loan for any purpose £500 - £75,000. Homeowner...  Spam\n",
      "2       3  Congrats! Nokia 3650 video camera phone is you...  Spam\n",
      "3       4  URGENT! Your Mobile number has been awarded wi...  Spam\n",
      "4       5  Someone has contacted our dating service and e...  Spam\n",
      "5       6  Send a logo 2 ur lover - 2 names joined by a h...  Spam\n",
      "6       7  FREE entry into our £250 weekly competition ju...  Spam\n",
      "7       8  100 dating service cal;l 09064012103 box334sk38ch  Spam\n",
      "8       9  FREE RINGTONE text FIRST to 87131 for a poly o...  Spam\n",
      "9      10  4mths half price Orange line rental & latest c...  Spam\n",
      "                                        Message_body Label  label\n",
      "0  upgrcentre orange customer may claim free came...  Spam      1\n",
      "1  loan purpose £500 £75000 homeowner tenant welc...  Spam      1\n",
      "2  congrats nokia 3650 vieo camera phone call 090...  Spam      1\n",
      "3  urgent mobile number aware £2000 prize guarant...  Spam      1\n",
      "4  someone contacte ating service entere phone fa...  Spam      1\n",
      "5  sen logo 2 ur lover 2 name joine heart txt lov...  Spam      1\n",
      "6  free entry £250 weekly competition text wor wi...  Spam      1\n",
      "7    100 ating service call 09064012103 box334sk38ch  Spam      1\n",
      "8  free ringtone text first 87131 poly text get 8...  Spam      1\n",
      "9  4mths half price orange line rental latest cam...  Spam      1\n"
     ]
    }
   ],
   "source": [
    "df = pd.read_csv('text_data.csv', encoding=\"ISO-8859-1\")\n",
    "print(df.head(10))\n",
    "df.drop(['S. No.'], axis=1, inplace=True)\n",
    "df['label'] = df['Label'].map({'Non-Spam': 0, 'Spam': 1})\n",
    "s=pd.Series(df['Message_body'])\n",
    "df['Message_body']=s.str.lower()\n",
    "df['Message_body'] = df['Message_body'].apply(lambda x: re.sub('[%s]' % re.escape(string.punctuation), '' , x))\n",
    "df['Message_body']= df['Message_body'].apply(lambda x: re.sub('W*dw*','',x))\n",
    "\n",
    "stop_words = set(stopwords.words('english'))\n",
    "stop_words.add('subject')\n",
    "stop_words.add('http')\n",
    "def remove_stopwords(text):\n",
    "    return \" \".join([word for word in str(text).split() if word not in stop_words])\n",
    "df['Message_body']=  df['Message_body'].apply(lambda x: remove_stopwords(x))\n",
    "# print(df.head(10))\n",
    "lemmatizer = WordNetLemmatizer()\n",
    "def lemmatize_words(text):\n",
    "    return \" \".join([lemmatizer.lemmatize(word) for word in text.split()])\n",
    "df['Message_body']= df['Message_body'].apply(lambda text: lemmatize_words(text))\n",
    "# print(df.head(10))\n",
    "df['Message_body']= df['Message_body'].apply(lambda text: re.sub(' +', ' ',text))\n",
    "print(df.head(10))"
   ]
  },
  {
   "cell_type": "code",
   "execution_count": 4,
   "id": "824d6000",
   "metadata": {},
   "outputs": [
    {
     "name": "stdout",
     "output_type": "stream",
     "text": [
      "              precision    recall  f1-score   support\n",
      "\n",
      "    Non-Spam       0.82      0.82      0.82        17\n",
      "        Spam       0.88      0.88      0.88        25\n",
      "\n",
      "    accuracy                           0.86        42\n",
      "   macro avg       0.85      0.85      0.85        42\n",
      "weighted avg       0.86      0.86      0.86        42\n",
      "\n"
     ]
    }
   ],
   "source": [
    "X = df['Message_body']\n",
    "y = df['Label']\n",
    "cv = CountVectorizer()\n",
    "X = cv.fit_transform(X) # Fit the Data\n",
    "X_train, X_test, y_train, y_test = train_test_split(X, y, test_size=0.33, random_state=42)\n",
    "#Naive Bayes Classifier\n",
    "clf = MultinomialNB()\n",
    "clf.fit(X_train,y_train)\n",
    "clf.score(X_test,y_test)\n",
    "y_pred = clf.predict(X_test)\n",
    "print(classification_report(y_test, y_pred))\n"
   ]
  },
  {
   "cell_type": "code",
   "execution_count": 7,
   "id": "a408c333",
   "metadata": {},
   "outputs": [],
   "source": [
    "joblib.dump(clf, 'NB_spam_model.pkl')\n",
    "# NB_spam_model = open('NB_spam_model.pkl','rb')\n",
    "# clf = joblib.load(NB_spam_model)"
   ]
  },
  {
   "cell_type": "code",
   "execution_count": 6,
   "id": "bbcd52a9",
   "metadata": {},
   "outputs": [
    {
     "ename": "SyntaxError",
     "evalue": "invalid syntax (Temp/ipykernel_26268/1768858846.py, line 1)",
     "output_type": "error",
     "traceback": [
      "\u001b[1;36m  File \u001b[1;32m\"C:\\Users\\vikra\\AppData\\Local\\Temp/ipykernel_26268/1768858846.py\"\u001b[1;36m, line \u001b[1;32m1\u001b[0m\n\u001b[1;33m    data =[100 dating service cal;l 09064012103 box334sk38ch]\u001b[0m\n\u001b[1;37m               ^\u001b[0m\n\u001b[1;31mSyntaxError\u001b[0m\u001b[1;31m:\u001b[0m invalid syntax\n"
     ]
    }
   ],
   "source": []
  }
 ],
 "metadata": {
  "kernelspec": {
   "display_name": "Python 3 (ipykernel)",
   "language": "python",
   "name": "python3"
  },
  "language_info": {
   "codemirror_mode": {
    "name": "ipython",
    "version": 3
   },
   "file_extension": ".py",
   "mimetype": "text/x-python",
   "name": "python",
   "nbconvert_exporter": "python",
   "pygments_lexer": "ipython3",
   "version": "3.9.7"
  }
 },
 "nbformat": 4,
 "nbformat_minor": 5
}
